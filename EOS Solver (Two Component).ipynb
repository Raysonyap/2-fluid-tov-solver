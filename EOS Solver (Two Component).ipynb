{
 "cells": [
  {
   "cell_type": "markdown",
   "metadata": {},
   "source": [
    "# EOS Solver for TOV w/ DM"
   ]
  },
  {
   "cell_type": "code",
   "execution_count": 1,
   "metadata": {},
   "outputs": [],
   "source": [
    "import numpy as np\n",
    "from scipy import constants as c\n",
    "import matplotlib.pyplot as plt \n",
    "from scipy import optimize\n",
    "from scipy import integrate\n",
    "from scipy import interpolate\n",
    "\n",
    "#---\n",
    "\n",
    "from matplotlib import rcParams\n",
    "from matplotlib import rc\n",
    "from mpl_toolkits.axes_grid1 import make_axes_locatable\n",
    "rcParams['font.family'] = 'default' \n",
    "rcParams['font.size'] = 15\n",
    "rcParams['font.weight'] = 300"
   ]
  },
  {
   "cell_type": "code",
   "execution_count": 2,
   "metadata": {},
   "outputs": [],
   "source": [
    "# conversion from SI to NU\n",
    "\n",
    "gev =  c.e * 1e9\n",
    "nu_length = c.hbar * c.c /gev\n",
    "nu_eps = gev / (nu_length**3)     # 1 GeV^4 = 1 nu_eps (2e37 Jm-3)\n",
    "nu_mass = c.c**-2 * gev           # 1 GeV   = 1 nu_mass (1.8e-27 kg)\n",
    "nu_time = c.hbar/gev              # 1 GeV-1 = 1 nu_time (6.58e-25 s)\n",
    "nu_G = c.G / (nu_length**3 / (nu_mass * nu_time**2)) "
   ]
  },
  {
   "cell_type": "markdown",
   "metadata": {},
   "source": [
    "## (1) Baryonic EOS: \n",
    "\n",
    "### $$p_1=\\frac{1}{3}(\\epsilon_1-4B)$$"
   ]
  },
  {
   "cell_type": "code",
   "execution_count": null,
   "metadata": {},
   "outputs": [],
   "source": [
    "B = 0.145\n",
    "\n",
    "eps_b = lambda p: 3*p + 4*(B**4)"
   ]
  },
  {
   "cell_type": "code",
   "execution_count": null,
   "metadata": {},
   "outputs": [],
   "source": [
    "## TOV - test for single component baryon:\n",
    "\n",
    "def test_baryon(r, v):\n",
    "    m, p = v\n",
    "    e = eps_b(p)\n",
    "    return [4*c.pi* r**2 * e, (-nu_G*m*e)/(r**2) * \\\n",
    "                 (1+(p/e)) * (1+((4*c.pi * r**3 * p)/(m))) / (1-((2*nu_G*m)/(r)))]"
   ]
  },
  {
   "cell_type": "code",
   "execution_count": null,
   "metadata": {},
   "outputs": [],
   "source": [
    "%%time\n",
    "\n",
    "def boundary(r, v): return v[1]\n",
    "boundary.terminal = True\n",
    "\n",
    "R_bm_test = []\n",
    "M_bm_test = []\n",
    "\n",
    "for p0 in np.logspace(-14,3,500):\n",
    "    sol = integrate.solve_ivp(test_baryon, [1e-10,1e30], [1e-10,p0], dense_output=True, events=boundary,rtol=1e-5)\n",
    "    R_bm_test.append(sol.t_events[0][0])\n",
    "    M_bm_test.append(sol.y_events[0][0][0])\n"
   ]
  },
  {
   "cell_type": "code",
   "execution_count": null,
   "metadata": {},
   "outputs": [],
   "source": [
    "r = np.linspace(1e-10,1e18,500)\n",
    "y = sol.sol(r)\n",
    "plt.semilogy(r, y.T[:,1])\n",
    "print(sol.t_events,sol.y_events)"
   ]
  },
  {
   "cell_type": "code",
   "execution_count": null,
   "metadata": {
    "scrolled": true
   },
   "outputs": [],
   "source": [
    "M_sun = 1.98840987e+30\n",
    "plt.figure(figsize=(8,6))\n",
    "plt.scatter(np.divide(np.multiply(R_bm_test,nu_length),1e3),np.divide(np.multiply(M_bm_test,nu_mass),M_sun),s=10)\n",
    "plt.title('Mass-Radius Relation without Dark Matter')\n",
    "plt.axhline(2,c='gray',ls='--')"
   ]
  },
  {
   "cell_type": "markdown",
   "metadata": {},
   "source": [
    "# (1.2) Baryonic EOS using DS(CMF)-4"
   ]
  },
  {
   "cell_type": "code",
   "execution_count": 3,
   "metadata": {},
   "outputs": [],
   "source": [
    "from astropy.io import ascii"
   ]
  },
  {
   "cell_type": "code",
   "execution_count": 4,
   "metadata": {},
   "outputs": [],
   "source": [
    "table = 'code/eos.table'\n",
    "data = ascii.read(table) "
   ]
  },
  {
   "cell_type": "code",
   "execution_count": 5,
   "metadata": {},
   "outputs": [
    {
     "data": {
      "text/plain": [
       "Text(0.5, 1.0, 'Equation of State for DS(CMF)-4')"
      ]
     },
     "execution_count": 5,
     "metadata": {},
     "output_type": "execute_result"
    },
    {
     "name": "stderr",
     "output_type": "stream",
     "text": [
      "findfont: Font family ['default'] not found. Falling back to DejaVu Sans.\n",
      "findfont: Font family ['default'] not found. Falling back to DejaVu Sans.\n",
      "findfont: Font family ['default'] not found. Falling back to DejaVu Sans.\n"
     ]
    },
    {
     "data": {
      "image/png": "[encoded data removed]",
      "text/plain": [
       "<Figure size 432x288 with 1 Axes>"
      ]
     },
     "metadata": {
      "needs_background": "light"
     },
     "output_type": "display_data"
    }
   ],
   "source": [
    "Pa = 1.60218e32\n",
    "\n",
    "pressure = data['col4']*Pa/nu_eps\n",
    "energy_density = data['col5']*Pa/nu_eps\n",
    "plt.loglog(pressure,energy_density)\n",
    "plt.xlabel('Pressure / GeV$^4$')\n",
    "plt.ylabel('Energy density / GeV$^4$')\n",
    "plt.title('Equation of State for DS(CMF)-4')"
   ]
  },
  {
   "cell_type": "code",
   "execution_count": 18,
   "metadata": {},
   "outputs": [
    {
     "data": {
      "text/plain": [
       "0.02368330777942625"
      ]
     },
     "execution_count": 18,
     "metadata": {},
     "output_type": "execute_result"
    }
   ],
   "source": [
    "max(pressure)"
   ]
  },
  {
   "cell_type": "code",
   "execution_count": 61,
   "metadata": {},
   "outputs": [],
   "source": [
    "# interpolator and lookup for pressure to energy density\n",
    "\n",
    "f = interpolate.interp1d(pressure,energy_density)\n",
    "\n",
    "def eps_b(p):\n",
    "    \n",
    "    if p<min(pressure):\n",
    "        return 1e-30\n",
    "    else:\n",
    "        return f(p)"
   ]
  },
  {
   "cell_type": "code",
   "execution_count": 62,
   "metadata": {},
   "outputs": [],
   "source": [
    "## TOV - test for single component baryon:\n",
    "\n",
    "def test_baryon(r, v):\n",
    "    m, p = v\n",
    "    e = eps_b(p)\n",
    "    return [4*c.pi* r**2 * e, (-nu_G*m*e)/(r**2) * \\\n",
    "                 (1+(p/e)) * (1+((4*c.pi * r**3 * p)/(m))) / (1-((2*nu_G*m)/(r)))]"
   ]
  },
  {
   "cell_type": "code",
   "execution_count": 63,
   "metadata": {},
   "outputs": [
    {
     "name": "stdout",
     "output_type": "stream",
     "text": [
      "CPU times: user 3min 36s, sys: 799 ms, total: 3min 37s\n",
      "Wall time: 3min 38s\n"
     ]
    }
   ],
   "source": [
    "%%time\n",
    "\n",
    "def boundary(r, v): return (v[1]-min(pressure))\n",
    "boundary.terminal = True\n",
    "\n",
    "R_bm_test = []\n",
    "M_bm_test = []\n",
    "\n",
    "for p0 in np.logspace(-5,-2,100):\n",
    "    sol = integrate.solve_ivp(test_baryon, [1e-10,1e30], [1e-10,p0], dense_output=True, events=boundary,rtol=1e-10)\n",
    "    R_bm_test.append(sol.t_events[0][0])\n",
    "    M_bm_test.append(sol.y_events[0][0][0])"
   ]
  },
  {
   "cell_type": "code",
   "execution_count": 64,
   "metadata": {},
   "outputs": [
    {
     "data": {
      "text/plain": [
       "<matplotlib.collections.PathCollection at 0x181ac95d50>"
      ]
     },
     "execution_count": 64,
     "metadata": {},
     "output_type": "execute_result"
    },
    {
     "data": {
      "image/png": "[encoded data removed]",
      "text/plain": [
       "<Figure size 576x432 with 1 Axes>"
      ]
     },
     "metadata": {
      "needs_background": "light"
     },
     "output_type": "display_data"
    }
   ],
   "source": [
    "M_sun = 1.98840987e+30\n",
    "plt.figure(figsize=(8,6))\n",
    "plt.scatter(np.divide(np.multiply(R_bm_test,nu_length),1e3),np.divide(np.multiply(M_bm_test,nu_mass),M_sun))"
   ]
  },
  {
   "cell_type": "markdown",
   "metadata": {},
   "source": [
    "# (2) DM EOS:"
   ]
  },
  {
   "cell_type": "code",
   "execution_count": 8,
   "metadata": {},
   "outputs": [],
   "source": [
    "mx = 100\n",
    "y_coup = 1e3\n",
    "\n",
    "eps_dm = lambda x: mx**4 * (((2*x**3+x)*np.sqrt(1+x**2)-np.arcsinh(x)) / (8* c.pi**2) \\\n",
    "                            + (y_coup**2 * x**6)/(9* c.pi**4) )\n",
    "\n",
    "p_dm = lambda x: mx**4 * (((2*x**3-3*x)*np.sqrt(1+x**2)+3*np.arcsinh(x)) / (24* c.pi**2) \\\n",
    "                            + (y_coup**2 * x**6)/(9* c.pi**4) )"
   ]
  },
  {
   "cell_type": "code",
   "execution_count": 9,
   "metadata": {},
   "outputs": [
    {
     "data": {
      "text/plain": [
       "Text(0, 0.5, 'Energy density / GeV$^4$')"
      ]
     },
     "execution_count": 9,
     "metadata": {},
     "output_type": "execute_result"
    },
    {
     "data": {
      "image/png": "[encoded data removed]",
      "text/plain": [
       "<Figure size 432x288 with 1 Axes>"
      ]
     },
     "metadata": {
      "needs_background": "light"
     },
     "output_type": "display_data"
    }
   ],
   "source": [
    "x_space = np.linspace(0,1000,10000001)\n",
    "p_space = p_dm(x_space)     # y = 1000, m_DM = 100 GeV\n",
    "e_space = eps_dm(x_space)\n",
    "\n",
    "plt.loglog(p_space,e_space)\n",
    "plt.xlabel('Pressure / GeV$^4$')\n",
    "plt.ylabel('Energy density / GeV$^4$')"
   ]
  },
  {
   "cell_type": "code",
   "execution_count": 10,
   "metadata": {},
   "outputs": [],
   "source": [
    "## TOV - test for single component dm:\n",
    "\n",
    "f = interpolate.interp1d(p_space,e_space)\n",
    "\n",
    "def p_to_e(p):\n",
    "    \n",
    "    if p<0:\n",
    "        return 1e-40\n",
    "    else:\n",
    "        return f(p)\n",
    "\n",
    "def test_dm(r, v):\n",
    "    m, p = v\n",
    "    e = p_to_e(p)\n",
    "    return [4*c.pi* r**2 * e, (-nu_G*m*e)/(r**2) * \\\n",
    "                 (1+(p/e)) * (1+((4*c.pi * r**3 * p)/(m))) / (1-((2*nu_G*m)/(r)))]"
   ]
  },
  {
   "cell_type": "code",
   "execution_count": null,
   "metadata": {
    "scrolled": true
   },
   "outputs": [],
   "source": [
    "%%time\n",
    "\n",
    "def boundary(r, v): return (v[1])\n",
    "boundary.terminal = True\n",
    "\n",
    "R_dm_test = []\n",
    "M_dm_test = []\n",
    "\n",
    "for p0 in np.logspace(-5,10,500):\n",
    "    sol = integrate.solve_ivp(test_dm, [1e-10,1e80], [1e-10,p0], dense_output=True, events=boundary,rtol=1e-8)\n",
    "    R_dm_test.append(sol.t_events[0][0])\n",
    "    M_dm_test.append(sol.y_events[0][0][0])\n"
   ]
  },
  {
   "cell_type": "code",
   "execution_count": null,
   "metadata": {},
   "outputs": [],
   "source": [
    "plt.plot(np.divide(np.multiply(R_dm_test,nu_length),1e3),np.divide(np.multiply(M_dm_test,nu_mass),M_sun))\n",
    "plt.xlim(0,0.35)\n",
    "plt.ylim(0,0.03)\n",
    "plt.title('Mass-Radius Relation for Dark Star')\n",
    "plt.xlabel('Radius / km')\n",
    "plt.ylabel('Mass / $M_\\odot$')"
   ]
  },
  {
   "cell_type": "code",
   "execution_count": null,
   "metadata": {},
   "outputs": [],
   "source": [
    "r = np.linspace(1e-10,1e18,500)\n",
    "y = sol.sol(r)\n",
    "plt.semilogy(r, y.T[:,1])\n",
    "print(sol.t_events,sol.y_events)"
   ]
  },
  {
   "cell_type": "markdown",
   "metadata": {},
   "source": [
    "## 2-component TOV Equation: \n",
    "\n",
    "### $$\\frac{dp_i}{dr}=-\\frac{Gm(r)}{r^2}\\bigg[p_i(r)+\\epsilon_i(r)\\bigg]\\bigg[1+\\frac{4\\pi r^3p(r)}{m(r)}\\bigg]\\bigg[1-\\frac{2Gm(r)}{r}\\bigg]^{-1} $$\n",
    "\n",
    "## Mass Equation: \n",
    "\n",
    "### $$\\frac{dm}{dr}=4\\pi r^2 \\epsilon(r)$$"
   ]
  },
  {
   "cell_type": "code",
   "execution_count": 65,
   "metadata": {},
   "outputs": [],
   "source": [
    "# define neutron star differential equations\n",
    "# 1: baryonic matter; 2: dark matter\n",
    "\n",
    "def EOS(r, v):\n",
    "    m1, m2, p1, p2 = v\n",
    "    e1 = eps_b(p1)\n",
    "    e2 = p_to_e(p2)\n",
    "    return [4*c.pi* r**2 * e1, 4*c.pi* r**2 * e2, \\\n",
    "            (-nu_G*(m1+m2))/(r**2) * (p1+e1) * (1+((4*c.pi * r**3 * (p1+p2))/(m1+m2))) / (1-((2*nu_G*(m1+m2))/r)), \\\n",
    "            (-nu_G*(m1+m2))/(r**2) * (p2+e2) * (1+((4*c.pi * r**3 * (p1+p2))/(m1+m2))) / (1-((2*nu_G*(m1+m2))/r))  ]"
   ]
  },
  {
   "cell_type": "code",
   "execution_count": 71,
   "metadata": {},
   "outputs": [
    {
     "ename": "ValueError",
     "evalue": "A value in x_new is above the interpolation range.",
     "output_type": "error",
     "traceback": [
      "\u001b[0;31m---------------------------------------------------------------------------\u001b[0m",
      "\u001b[0;31mValueError\u001b[0m                                Traceback (most recent call last)",
      "\u001b[0;32m<timed exec>\u001b[0m in \u001b[0;36m<module>\u001b[0;34m\u001b[0m\n",
      "\u001b[0;32m/opt/anaconda3/lib/python3.7/site-packages/scipy/integrate/_ivp/ivp.py\u001b[0m in \u001b[0;36msolve_ivp\u001b[0;34m(fun, t_span, y0, method, t_eval, dense_output, events, vectorized, args, **options)\u001b[0m\n\u001b[1;32m    541\u001b[0m         \u001b[0mmethod\u001b[0m \u001b[0;34m=\u001b[0m \u001b[0mMETHODS\u001b[0m\u001b[0;34m[\u001b[0m\u001b[0mmethod\u001b[0m\u001b[0;34m]\u001b[0m\u001b[0;34m\u001b[0m\u001b[0;34m\u001b[0m\u001b[0m\n\u001b[1;32m    542\u001b[0m \u001b[0;34m\u001b[0m\u001b[0m\n\u001b[0;32m--> 543\u001b[0;31m     \u001b[0msolver\u001b[0m \u001b[0;34m=\u001b[0m \u001b[0mmethod\u001b[0m\u001b[0;34m(\u001b[0m\u001b[0mfun\u001b[0m\u001b[0;34m,\u001b[0m \u001b[0mt0\u001b[0m\u001b[0;34m,\u001b[0m \u001b[0my0\u001b[0m\u001b[0;34m,\u001b[0m \u001b[0mtf\u001b[0m\u001b[0;34m,\u001b[0m \u001b[0mvectorized\u001b[0m\u001b[0;34m=\u001b[0m\u001b[0mvectorized\u001b[0m\u001b[0;34m,\u001b[0m \u001b[0;34m**\u001b[0m\u001b[0moptions\u001b[0m\u001b[0;34m)\u001b[0m\u001b[0;34m\u001b[0m\u001b[0;34m\u001b[0m\u001b[0m\n\u001b[0m\u001b[1;32m    544\u001b[0m \u001b[0;34m\u001b[0m\u001b[0m\n\u001b[1;32m    545\u001b[0m     \u001b[0;32mif\u001b[0m \u001b[0mt_eval\u001b[0m \u001b[0;32mis\u001b[0m \u001b[0;32mNone\u001b[0m\u001b[0;34m:\u001b[0m\u001b[0;34m\u001b[0m\u001b[0;34m\u001b[0m\u001b[0m\n",
      "\u001b[0;32m/opt/anaconda3/lib/python3.7/site-packages/scipy/integrate/_ivp/rk.py\u001b[0m in \u001b[0;36m__init__\u001b[0;34m(self, fun, t0, y0, t_bound, max_step, rtol, atol, vectorized, first_step, **extraneous)\u001b[0m\n\u001b[1;32m     93\u001b[0m         \u001b[0mself\u001b[0m\u001b[0;34m.\u001b[0m\u001b[0mmax_step\u001b[0m \u001b[0;34m=\u001b[0m \u001b[0mvalidate_max_step\u001b[0m\u001b[0;34m(\u001b[0m\u001b[0mmax_step\u001b[0m\u001b[0;34m)\u001b[0m\u001b[0;34m\u001b[0m\u001b[0;34m\u001b[0m\u001b[0m\n\u001b[1;32m     94\u001b[0m         \u001b[0mself\u001b[0m\u001b[0;34m.\u001b[0m\u001b[0mrtol\u001b[0m\u001b[0;34m,\u001b[0m \u001b[0mself\u001b[0m\u001b[0;34m.\u001b[0m\u001b[0matol\u001b[0m \u001b[0;34m=\u001b[0m \u001b[0mvalidate_tol\u001b[0m\u001b[0;34m(\u001b[0m\u001b[0mrtol\u001b[0m\u001b[0;34m,\u001b[0m \u001b[0matol\u001b[0m\u001b[0;34m,\u001b[0m \u001b[0mself\u001b[0m\u001b[0;34m.\u001b[0m\u001b[0mn\u001b[0m\u001b[0;34m)\u001b[0m\u001b[0;34m\u001b[0m\u001b[0;34m\u001b[0m\u001b[0m\n\u001b[0;32m---> 95\u001b[0;31m         \u001b[0mself\u001b[0m\u001b[0;34m.\u001b[0m\u001b[0mf\u001b[0m \u001b[0;34m=\u001b[0m \u001b[0mself\u001b[0m\u001b[0;34m.\u001b[0m\u001b[0mfun\u001b[0m\u001b[0;34m(\u001b[0m\u001b[0mself\u001b[0m\u001b[0;34m.\u001b[0m\u001b[0mt\u001b[0m\u001b[0;34m,\u001b[0m \u001b[0mself\u001b[0m\u001b[0;34m.\u001b[0m\u001b[0my\u001b[0m\u001b[0;34m)\u001b[0m\u001b[0;34m\u001b[0m\u001b[0;34m\u001b[0m\u001b[0m\n\u001b[0m\u001b[1;32m     96\u001b[0m         \u001b[0;32mif\u001b[0m \u001b[0mfirst_step\u001b[0m \u001b[0;32mis\u001b[0m \u001b[0;32mNone\u001b[0m\u001b[0;34m:\u001b[0m\u001b[0;34m\u001b[0m\u001b[0;34m\u001b[0m\u001b[0m\n\u001b[1;32m     97\u001b[0m             self.h_abs = select_initial_step(\n",
      "\u001b[0;32m/opt/anaconda3/lib/python3.7/site-packages/scipy/integrate/_ivp/base.py\u001b[0m in \u001b[0;36mfun\u001b[0;34m(t, y)\u001b[0m\n\u001b[1;32m    137\u001b[0m         \u001b[0;32mdef\u001b[0m \u001b[0mfun\u001b[0m\u001b[0;34m(\u001b[0m\u001b[0mt\u001b[0m\u001b[0;34m,\u001b[0m \u001b[0my\u001b[0m\u001b[0;34m)\u001b[0m\u001b[0;34m:\u001b[0m\u001b[0;34m\u001b[0m\u001b[0;34m\u001b[0m\u001b[0m\n\u001b[1;32m    138\u001b[0m             \u001b[0mself\u001b[0m\u001b[0;34m.\u001b[0m\u001b[0mnfev\u001b[0m \u001b[0;34m+=\u001b[0m \u001b[0;36m1\u001b[0m\u001b[0;34m\u001b[0m\u001b[0;34m\u001b[0m\u001b[0m\n\u001b[0;32m--> 139\u001b[0;31m             \u001b[0;32mreturn\u001b[0m \u001b[0mself\u001b[0m\u001b[0;34m.\u001b[0m\u001b[0mfun_single\u001b[0m\u001b[0;34m(\u001b[0m\u001b[0mt\u001b[0m\u001b[0;34m,\u001b[0m \u001b[0my\u001b[0m\u001b[0;34m)\u001b[0m\u001b[0;34m\u001b[0m\u001b[0;34m\u001b[0m\u001b[0m\n\u001b[0m\u001b[1;32m    140\u001b[0m \u001b[0;34m\u001b[0m\u001b[0m\n\u001b[1;32m    141\u001b[0m         \u001b[0mself\u001b[0m\u001b[0;34m.\u001b[0m\u001b[0mfun\u001b[0m \u001b[0;34m=\u001b[0m \u001b[0mfun\u001b[0m\u001b[0;34m\u001b[0m\u001b[0;34m\u001b[0m\u001b[0m\n",
      "\u001b[0;32m/opt/anaconda3/lib/python3.7/site-packages/scipy/integrate/_ivp/base.py\u001b[0m in \u001b[0;36mfun_wrapped\u001b[0;34m(t, y)\u001b[0m\n\u001b[1;32m     19\u001b[0m \u001b[0;34m\u001b[0m\u001b[0m\n\u001b[1;32m     20\u001b[0m     \u001b[0;32mdef\u001b[0m \u001b[0mfun_wrapped\u001b[0m\u001b[0;34m(\u001b[0m\u001b[0mt\u001b[0m\u001b[0;34m,\u001b[0m \u001b[0my\u001b[0m\u001b[0;34m)\u001b[0m\u001b[0;34m:\u001b[0m\u001b[0;34m\u001b[0m\u001b[0;34m\u001b[0m\u001b[0m\n\u001b[0;32m---> 21\u001b[0;31m         \u001b[0;32mreturn\u001b[0m \u001b[0mnp\u001b[0m\u001b[0;34m.\u001b[0m\u001b[0masarray\u001b[0m\u001b[0;34m(\u001b[0m\u001b[0mfun\u001b[0m\u001b[0;34m(\u001b[0m\u001b[0mt\u001b[0m\u001b[0;34m,\u001b[0m \u001b[0my\u001b[0m\u001b[0;34m)\u001b[0m\u001b[0;34m,\u001b[0m \u001b[0mdtype\u001b[0m\u001b[0;34m=\u001b[0m\u001b[0mdtype\u001b[0m\u001b[0;34m)\u001b[0m\u001b[0;34m\u001b[0m\u001b[0;34m\u001b[0m\u001b[0m\n\u001b[0m\u001b[1;32m     22\u001b[0m \u001b[0;34m\u001b[0m\u001b[0m\n\u001b[1;32m     23\u001b[0m     \u001b[0;32mreturn\u001b[0m \u001b[0mfun_wrapped\u001b[0m\u001b[0;34m,\u001b[0m \u001b[0my0\u001b[0m\u001b[0;34m\u001b[0m\u001b[0;34m\u001b[0m\u001b[0m\n",
      "\u001b[0;32m<ipython-input-65-63ee4c99bce1>\u001b[0m in \u001b[0;36mEOS\u001b[0;34m(r, v)\u001b[0m\n\u001b[1;32m      5\u001b[0m     \u001b[0mm1\u001b[0m\u001b[0;34m,\u001b[0m \u001b[0mm2\u001b[0m\u001b[0;34m,\u001b[0m \u001b[0mp1\u001b[0m\u001b[0;34m,\u001b[0m \u001b[0mp2\u001b[0m \u001b[0;34m=\u001b[0m \u001b[0mv\u001b[0m\u001b[0;34m\u001b[0m\u001b[0;34m\u001b[0m\u001b[0m\n\u001b[1;32m      6\u001b[0m     \u001b[0me1\u001b[0m \u001b[0;34m=\u001b[0m \u001b[0meps_b\u001b[0m\u001b[0;34m(\u001b[0m\u001b[0mp1\u001b[0m\u001b[0;34m)\u001b[0m\u001b[0;34m\u001b[0m\u001b[0;34m\u001b[0m\u001b[0m\n\u001b[0;32m----> 7\u001b[0;31m     \u001b[0me2\u001b[0m \u001b[0;34m=\u001b[0m \u001b[0mp_to_e\u001b[0m\u001b[0;34m(\u001b[0m\u001b[0mp2\u001b[0m\u001b[0;34m)\u001b[0m\u001b[0;34m\u001b[0m\u001b[0;34m\u001b[0m\u001b[0m\n\u001b[0m\u001b[1;32m      8\u001b[0m     return [4*c.pi* r**2 * e1, 4*c.pi* r**2 * e2, \\\n\u001b[1;32m      9\u001b[0m             \u001b[0;34m(\u001b[0m\u001b[0;34m-\u001b[0m\u001b[0mnu_G\u001b[0m\u001b[0;34m*\u001b[0m\u001b[0;34m(\u001b[0m\u001b[0mm1\u001b[0m\u001b[0;34m+\u001b[0m\u001b[0mm2\u001b[0m\u001b[0;34m)\u001b[0m\u001b[0;34m)\u001b[0m\u001b[0;34m/\u001b[0m\u001b[0;34m(\u001b[0m\u001b[0mr\u001b[0m\u001b[0;34m**\u001b[0m\u001b[0;36m2\u001b[0m\u001b[0;34m)\u001b[0m \u001b[0;34m*\u001b[0m \u001b[0;34m(\u001b[0m\u001b[0mp1\u001b[0m\u001b[0;34m+\u001b[0m\u001b[0me1\u001b[0m\u001b[0;34m)\u001b[0m \u001b[0;34m*\u001b[0m \u001b[0;34m(\u001b[0m\u001b[0;36m1\u001b[0m\u001b[0;34m+\u001b[0m\u001b[0;34m(\u001b[0m\u001b[0;34m(\u001b[0m\u001b[0;36m4\u001b[0m\u001b[0;34m*\u001b[0m\u001b[0mc\u001b[0m\u001b[0;34m.\u001b[0m\u001b[0mpi\u001b[0m \u001b[0;34m*\u001b[0m \u001b[0mr\u001b[0m\u001b[0;34m**\u001b[0m\u001b[0;36m3\u001b[0m \u001b[0;34m*\u001b[0m \u001b[0;34m(\u001b[0m\u001b[0mp1\u001b[0m\u001b[0;34m+\u001b[0m\u001b[0mp2\u001b[0m\u001b[0;34m)\u001b[0m\u001b[0;34m)\u001b[0m\u001b[0;34m/\u001b[0m\u001b[0;34m(\u001b[0m\u001b[0mm1\u001b[0m\u001b[0;34m+\u001b[0m\u001b[0mm2\u001b[0m\u001b[0;34m)\u001b[0m\u001b[0;34m)\u001b[0m\u001b[0;34m)\u001b[0m \u001b[0;34m/\u001b[0m \u001b[0;34m(\u001b[0m\u001b[0;36m1\u001b[0m\u001b[0;34m-\u001b[0m\u001b[0;34m(\u001b[0m\u001b[0;34m(\u001b[0m\u001b[0;36m2\u001b[0m\u001b[0;34m*\u001b[0m\u001b[0mnu_G\u001b[0m\u001b[0;34m*\u001b[0m\u001b[0;34m(\u001b[0m\u001b[0mm1\u001b[0m\u001b[0;34m+\u001b[0m\u001b[0mm2\u001b[0m\u001b[0;34m)\u001b[0m\u001b[0;34m)\u001b[0m\u001b[0;34m/\u001b[0m\u001b[0mr\u001b[0m\u001b[0;34m)\u001b[0m\u001b[0;34m)\u001b[0m\u001b[0;34m,\u001b[0m\u001b[0;31m \u001b[0m\u001b[0;31m\\\u001b[0m\u001b[0;34m\u001b[0m\u001b[0;34m\u001b[0m\u001b[0m\n",
      "\u001b[0;32m<ipython-input-10-1ce145dd7130>\u001b[0m in \u001b[0;36mp_to_e\u001b[0;34m(p)\u001b[0m\n\u001b[1;32m      8\u001b[0m         \u001b[0;32mreturn\u001b[0m \u001b[0;36m1e-40\u001b[0m\u001b[0;34m\u001b[0m\u001b[0;34m\u001b[0m\u001b[0m\n\u001b[1;32m      9\u001b[0m     \u001b[0;32melse\u001b[0m\u001b[0;34m:\u001b[0m\u001b[0;34m\u001b[0m\u001b[0;34m\u001b[0m\u001b[0m\n\u001b[0;32m---> 10\u001b[0;31m         \u001b[0;32mreturn\u001b[0m \u001b[0mf\u001b[0m\u001b[0;34m(\u001b[0m\u001b[0mp\u001b[0m\u001b[0;34m)\u001b[0m\u001b[0;34m\u001b[0m\u001b[0;34m\u001b[0m\u001b[0m\n\u001b[0m\u001b[1;32m     11\u001b[0m \u001b[0;34m\u001b[0m\u001b[0m\n\u001b[1;32m     12\u001b[0m \u001b[0;32mdef\u001b[0m \u001b[0mtest_dm\u001b[0m\u001b[0;34m(\u001b[0m\u001b[0mr\u001b[0m\u001b[0;34m,\u001b[0m \u001b[0mv\u001b[0m\u001b[0;34m)\u001b[0m\u001b[0;34m:\u001b[0m\u001b[0;34m\u001b[0m\u001b[0;34m\u001b[0m\u001b[0m\n",
      "\u001b[0;32m/opt/anaconda3/lib/python3.7/site-packages/scipy/interpolate/polyint.py\u001b[0m in \u001b[0;36m__call__\u001b[0;34m(self, x)\u001b[0m\n\u001b[1;32m     77\u001b[0m         \"\"\"\n\u001b[1;32m     78\u001b[0m         \u001b[0mx\u001b[0m\u001b[0;34m,\u001b[0m \u001b[0mx_shape\u001b[0m \u001b[0;34m=\u001b[0m \u001b[0mself\u001b[0m\u001b[0;34m.\u001b[0m\u001b[0m_prepare_x\u001b[0m\u001b[0;34m(\u001b[0m\u001b[0mx\u001b[0m\u001b[0;34m)\u001b[0m\u001b[0;34m\u001b[0m\u001b[0;34m\u001b[0m\u001b[0m\n\u001b[0;32m---> 79\u001b[0;31m         \u001b[0my\u001b[0m \u001b[0;34m=\u001b[0m \u001b[0mself\u001b[0m\u001b[0;34m.\u001b[0m\u001b[0m_evaluate\u001b[0m\u001b[0;34m(\u001b[0m\u001b[0mx\u001b[0m\u001b[0;34m)\u001b[0m\u001b[0;34m\u001b[0m\u001b[0;34m\u001b[0m\u001b[0m\n\u001b[0m\u001b[1;32m     80\u001b[0m         \u001b[0;32mreturn\u001b[0m \u001b[0mself\u001b[0m\u001b[0;34m.\u001b[0m\u001b[0m_finish_y\u001b[0m\u001b[0;34m(\u001b[0m\u001b[0my\u001b[0m\u001b[0;34m,\u001b[0m \u001b[0mx_shape\u001b[0m\u001b[0;34m)\u001b[0m\u001b[0;34m\u001b[0m\u001b[0;34m\u001b[0m\u001b[0m\n\u001b[1;32m     81\u001b[0m \u001b[0;34m\u001b[0m\u001b[0m\n",
      "\u001b[0;32m/opt/anaconda3/lib/python3.7/site-packages/scipy/interpolate/interpolate.py\u001b[0m in \u001b[0;36m_evaluate\u001b[0;34m(self, x_new)\u001b[0m\n\u001b[1;32m    661\u001b[0m         \u001b[0my_new\u001b[0m \u001b[0;34m=\u001b[0m \u001b[0mself\u001b[0m\u001b[0;34m.\u001b[0m\u001b[0m_call\u001b[0m\u001b[0;34m(\u001b[0m\u001b[0mself\u001b[0m\u001b[0;34m,\u001b[0m \u001b[0mx_new\u001b[0m\u001b[0;34m)\u001b[0m\u001b[0;34m\u001b[0m\u001b[0;34m\u001b[0m\u001b[0m\n\u001b[1;32m    662\u001b[0m         \u001b[0;32mif\u001b[0m \u001b[0;32mnot\u001b[0m \u001b[0mself\u001b[0m\u001b[0;34m.\u001b[0m\u001b[0m_extrapolate\u001b[0m\u001b[0;34m:\u001b[0m\u001b[0;34m\u001b[0m\u001b[0;34m\u001b[0m\u001b[0m\n\u001b[0;32m--> 663\u001b[0;31m             \u001b[0mbelow_bounds\u001b[0m\u001b[0;34m,\u001b[0m \u001b[0mabove_bounds\u001b[0m \u001b[0;34m=\u001b[0m \u001b[0mself\u001b[0m\u001b[0;34m.\u001b[0m\u001b[0m_check_bounds\u001b[0m\u001b[0;34m(\u001b[0m\u001b[0mx_new\u001b[0m\u001b[0;34m)\u001b[0m\u001b[0;34m\u001b[0m\u001b[0;34m\u001b[0m\u001b[0m\n\u001b[0m\u001b[1;32m    664\u001b[0m             \u001b[0;32mif\u001b[0m \u001b[0mlen\u001b[0m\u001b[0;34m(\u001b[0m\u001b[0my_new\u001b[0m\u001b[0;34m)\u001b[0m \u001b[0;34m>\u001b[0m \u001b[0;36m0\u001b[0m\u001b[0;34m:\u001b[0m\u001b[0;34m\u001b[0m\u001b[0;34m\u001b[0m\u001b[0m\n\u001b[1;32m    665\u001b[0m                 \u001b[0;31m# Note fill_value must be broadcast up to the proper size\u001b[0m\u001b[0;34m\u001b[0m\u001b[0;34m\u001b[0m\u001b[0;34m\u001b[0m\u001b[0m\n",
      "\u001b[0;32m/opt/anaconda3/lib/python3.7/site-packages/scipy/interpolate/interpolate.py\u001b[0m in \u001b[0;36m_check_bounds\u001b[0;34m(self, x_new)\u001b[0m\n\u001b[1;32m    693\u001b[0m                              \"range.\")\n\u001b[1;32m    694\u001b[0m         \u001b[0;32mif\u001b[0m \u001b[0mself\u001b[0m\u001b[0;34m.\u001b[0m\u001b[0mbounds_error\u001b[0m \u001b[0;32mand\u001b[0m \u001b[0mabove_bounds\u001b[0m\u001b[0;34m.\u001b[0m\u001b[0many\u001b[0m\u001b[0;34m(\u001b[0m\u001b[0;34m)\u001b[0m\u001b[0;34m:\u001b[0m\u001b[0;34m\u001b[0m\u001b[0;34m\u001b[0m\u001b[0m\n\u001b[0;32m--> 695\u001b[0;31m             raise ValueError(\"A value in x_new is above the interpolation \"\n\u001b[0m\u001b[1;32m    696\u001b[0m                              \"range.\")\n\u001b[1;32m    697\u001b[0m \u001b[0;34m\u001b[0m\u001b[0m\n",
      "\u001b[0;31mValueError\u001b[0m: A value in x_new is above the interpolation range."
     ]
    }
   ],
   "source": [
    "%%time\n",
    "\n",
    "def boundary_bm(r, v): return (v[2]-min(pressure))\n",
    "def boundary_dm(r, v): return (v[3])\n",
    "def boundary(r, v): return (v[2]-min(pressure) and v[3])\n",
    "\n",
    "#boundary.terminal = True\n",
    "\n",
    "\n",
    "\n",
    "R_bm = []\n",
    "M_bm = []\n",
    "R_dm = []\n",
    "M_dm = []\n",
    "\n",
    "#for pd in np.logspace(-2,2,4):\n",
    "for p0 in np.logspace(-3,-2,100):\n",
    "    sol = integrate.solve_ivp(EOS, [1e-10,1e30], [1e-10,1e-10,p0,1e-1], dense_output=True, \\\n",
    "                              events=(boundary_bm,boundary_dm),rtol=1e-8)\n",
    "    R_bm.append(sol.t_events[0][0])\n",
    "    M_bm.append(sol.y_events[0][0][0])\n",
    "    R_dm.append(sol.t_events[1][0])\n",
    "    M_dm.append(sol.y_events[1][0][0])\n",
    "\n"
   ]
  },
  {
   "cell_type": "code",
   "execution_count": null,
   "metadata": {},
   "outputs": [],
   "source": [
    "plt.figure(figsize=(8,6))\n",
    "plt.scatter(np.divide(np.multiply(R_bm,nu_length),1e3),np.divide(np.multiply(M_bm,nu_mass),M_sun),s=10)\n",
    "plt.title('Mass-Radius Relation with Dark Matter')\n",
    "plt.axhline(2,c='grey',ls='--')"
   ]
  },
  {
   "cell_type": "code",
   "execution_count": 37,
   "metadata": {},
   "outputs": [
    {
     "name": "stdout",
     "output_type": "stream",
     "text": [
      "[array([1.07333712e+18]), array([1.07333714e+18])] [array([[4.97998772e+53, 4.97998772e+53, 1.61386611e-13, 1.61384029e-13]]), array([[ 4.97998772e+53,  4.97998772e+53,  2.58115424e-18,\n",
      "        -8.66885282e-22]])]\n"
     ]
    },
    {
     "data": {
      "image/png": "[encoded data removed]",
      "text/plain": [
       "<Figure size 432x288 with 1 Axes>"
      ]
     },
     "metadata": {
      "needs_background": "light"
     },
     "output_type": "display_data"
    }
   ],
   "source": [
    "r=np.linspace(1e-10,1e18,500)\n",
    "y = sol.sol(r)\n",
    "plt.semilogy(r, y.T[:,2])\n",
    "plt.semilogy(r, y.T[:,3])\n",
    "print(sol.t_events,sol.y_events)"
   ]
  },
  {
   "cell_type": "code",
   "execution_count": null,
   "metadata": {},
   "outputs": [],
   "source": [
    "np.shape(R_dm)"
   ]
  },
  {
   "cell_type": "code",
   "execution_count": null,
   "metadata": {},
   "outputs": [],
   "source": [
    "M_plot=np.divide(np.multiply(M_bm,nu_mass),M_sun)\n",
    "plt.figure(figsize=(8,6))\n",
    "plt.plot(np.multiply(np.logspace(-5,3,50),nu_eps/nuc),M_plot[:50],label='$p_{0,dm}=1\\ GeV^4$')\n",
    "plt.plot(np.multiply(np.logspace(-5,3,50),nu_eps/nuc),M_plot[50:100],label='$p_{0,dm}=10\\ GeV^4$')\n",
    "#plt.scatter(np.multiply(np.logspace(-5,3,50),nu_eps/nuc),M_plot[100:150],s=20)\n",
    "#plt.scatter(np.multiply(np.logspace(-5,3,50),nu_eps/nuc),M_plot[150:200],s=20)\n",
    "#plt.scatter(np.multiply(np.logspace(-5,3,50),nu_eps/nuc),M_plot[200:250],s=20)\n",
    "#plt.scatter(np.multiply(np.logspace(-5,3,50),nu_eps/nuc),M_plot[250:300],s=20)\n",
    "plt.xlim(-250,6000)\n",
    "plt.xlabel('Baryonic Central Pressure (MeV / fm$^3$)')\n",
    "plt.ylabel('Neutron Star Mass / $M_\\odot$')\n",
    "plt.legend()\n",
    "#plt.grid()\n",
    "\n",
    "#plt.title()"
   ]
  },
  {
   "cell_type": "code",
   "execution_count": null,
   "metadata": {},
   "outputs": [],
   "source": [
    "R_plot=np.divide(np.multiply(R_bm,nu_length),1e3)\n",
    "plt.figure(figsize=(8,7))\n",
    "plt.plot(np.multiply(np.logspace(-5,3,50),nu_eps/nuc),R_plot[:50],label='$p_{0,dm}=1\\ GeV^4$')\n",
    "plt.plot(np.multiply(np.logspace(-5,3,50),nu_eps/nuc),R_plot[50:100],label='$p_{0,dm}=10\\ GeV^4$')\n",
    "plt.xlim(-250,6e3)\n",
    "plt.xlabel('Baryonic Central Pressure (MeV / fm$^3$)')\n",
    "plt.ylabel('Neutron Star Radius (km)')\n",
    "plt.legend()\n",
    "#plt.grid()"
   ]
  },
  {
   "cell_type": "code",
   "execution_count": null,
   "metadata": {},
   "outputs": [],
   "source": [
    "DM_plot=np.divide(np.multiply(R_dm,nu_length),1e3)\n",
    "plt.figure(figsize=(8,6))\n",
    "plt.plot(np.multiply(np.logspace(-5,3,50),nu_eps/nuc),DM_plot[:50],label='$p_{0,dm}=1\\ GeV^4$')\n",
    "plt.plot(np.multiply(np.logspace(-5,3,50),nu_eps/nuc),DM_plot[50:100],label='$p_{0,dm}=10\\ GeV^4$')\n",
    "#plt.xlim(-500,6e3)\n",
    "#plt.ylim(top=12)\n",
    "plt.xlabel('Baryonic Central Pressure (MeV / fm$^3$)')\n",
    "plt.ylabel('Neutron Star Radius (km)')\n",
    "plt.legend()\n",
    "plt.grid()"
   ]
  },
  {
   "cell_type": "code",
   "execution_count": null,
   "metadata": {
    "scrolled": false
   },
   "outputs": [],
   "source": [
    "plt.figure(figsize=(8,6))\n",
    "plt.scatter(np.divide(np.multiply(R_bm,nu_length),1e3),np.divide(np.multiply(M_bm,nu_mass),M_sun),s=10)\n",
    "plt.title('Mass-Radius Relation with Dark Matter')\n",
    "plt.axhline(2,c='grey',ls='--')"
   ]
  },
  {
   "cell_type": "code",
   "execution_count": null,
   "metadata": {},
   "outputs": [],
   "source": [
    "plt.scatter(np.divide(np.multiply(R_dm,nu_length),1e3),np.divide(np.multiply(M_dm,nu_mass),M_sun))"
   ]
  },
  {
   "cell_type": "code",
   "execution_count": null,
   "metadata": {},
   "outputs": [],
   "source": [
    "sol.y_events"
   ]
  },
  {
   "cell_type": "code",
   "execution_count": null,
   "metadata": {},
   "outputs": [],
   "source": [
    "sol.t_events"
   ]
  },
  {
   "cell_type": "code",
   "execution_count": null,
   "metadata": {},
   "outputs": [],
   "source": [
    "\n",
    "\n",
    "sol = integrate.solve_ivp(EOS, [1e-10,1e30], [1e-10,1e-10,1e-1,2], dense_output=True, \\\n",
    "                              events=(boundary_bm,boundary_dm),rtol=1e-8)\n",
    "\n",
    "\n",
    "r = np.linspace(1e-10,1e19,10000)\n",
    "y = sol.sol(r)\n",
    "plt.figure(figsize=(10,8))\n",
    "plt.semilogy(np.multiply(r,nu_length/1e3), np.multiply(y.T[:,2],nu_eps/nuc),label='Baryonic Matter')\n",
    "plt.semilogy(np.multiply(r,nu_length/1e3), np.multiply(y.T[:,3],nu_eps/nuc),label='Dark Matter')\n",
    "plt.legend()\n",
    "plt.ylabel('Pressure (MeV / fm$^3$)')\n",
    "plt.xlabel('Radius (km)')\n",
    "plt.title('$p_{0,bm}=10^{-1} GeV^4, p_{0,dm}=2 GeV^4$, $y =10^4$, $m_X=10^2$ GeV')\n",
    "#plt.grid()"
   ]
  },
  {
   "cell_type": "code",
   "execution_count": null,
   "metadata": {},
   "outputs": [],
   "source": [
    "tet=np.logspace(0,4,5)\n",
    "tet"
   ]
  },
  {
   "cell_type": "code",
   "execution_count": null,
   "metadata": {},
   "outputs": [],
   "source": [
    "tet[0:5]"
   ]
  },
  {
   "cell_type": "code",
   "execution_count": null,
   "metadata": {},
   "outputs": [],
   "source": [
    "nuc=1.60218e32"
   ]
  },
  {
   "cell_type": "code",
   "execution_count": null,
   "metadata": {},
   "outputs": [],
   "source": [
    "1e5*nuc/nu_eps"
   ]
  },
  {
   "cell_type": "code",
   "execution_count": null,
   "metadata": {},
   "outputs": [],
   "source": [
    "sol = integrate.solve_ivp(EOS, [1e-10,1e30], [1e-10,1e-10,1e-2,1e-3], dense_output=True, \\\n",
    "                              events=(boundary_bm,boundary_dm),rtol=1e-8)"
   ]
  },
  {
   "cell_type": "code",
   "execution_count": null,
   "metadata": {},
   "outputs": [],
   "source": []
  }
 ],
 "metadata": {
  "kernelspec": {
   "display_name": "Python 3",
   "language": "python",
   "name": "python3"
  },
  "language_info": {
   "codemirror_mode": {
    "name": "ipython",
    "version": 3
   },
   "file_extension": ".py",
   "mimetype": "text/x-python",
   "name": "python",
   "nbconvert_exporter": "python",
   "pygments_lexer": "ipython3",
   "version": "3.7.4"
  }
 },
 "nbformat": 4,
 "nbformat_minor": 4
}
